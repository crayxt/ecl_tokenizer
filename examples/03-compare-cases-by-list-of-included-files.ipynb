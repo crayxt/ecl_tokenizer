{
 "cells": [
  {
   "cell_type": "markdown",
   "id": "e6a61904",
   "metadata": {},
   "source": [
    "# Compare 2 cases by their included file names\n",
    "\n",
    "In this example notebook, we compare lists of included files of different cases (data decks) to see what is changed is terms of included files. Missing included files are not considered here.\n",
    "\n",
    "Content and values of keywords are not compared.\n",
    "\n",
    "## Import libraries\n",
    "\n",
    "`ecl_tokenizer` can be found at https://github.com/crayxt/ecl_tokenizer"
   ]
  },
  {
   "cell_type": "code",
   "execution_count": 1,
   "id": "c96b18b6",
   "metadata": {},
   "outputs": [],
   "source": [
    "import sys\n",
    "sys.path.append(\"..\")\n",
    "import ecl_tokenizer as et\n",
    "\n",
    "from IPython.core.display import display, HTML"
   ]
  },
  {
   "cell_type": "markdown",
   "id": "cb02a9fe",
   "metadata": {},
   "source": [
    "## Read 3 Norne sample cases from opm-tests repository"
   ]
  },
  {
   "cell_type": "code",
   "execution_count": 9,
   "id": "77ad02a1",
   "metadata": {},
   "outputs": [
    {
     "name": "stdout",
     "output_type": "stream",
     "text": [
      "INFO: EclCase init from data deck: C:\\GitHub\\opm-tests\\norne\\NORNE_ATW2013.DATA\n"
     ]
    }
   ],
   "source": [
    "case1 = et.EclCase(r\"C:\\GitHub\\opm-tests\\norne\\NORNE_ATW2013.DATA\")"
   ]
  },
  {
   "cell_type": "code",
   "execution_count": 10,
   "id": "7196cb56",
   "metadata": {},
   "outputs": [
    {
     "name": "stdout",
     "output_type": "stream",
     "text": [
      "INFO: EclCase init from data deck: C:\\GitHub\\opm-tests\\norne\\NORNE_ATW2013_2A_MSW.DATA\n"
     ]
    }
   ],
   "source": [
    "case2 = et.EclCase(r\"C:\\GitHub\\opm-tests\\norne\\NORNE_ATW2013_2A_MSW.DATA\")"
   ]
  },
  {
   "cell_type": "code",
   "execution_count": 11,
   "id": "6790b0b5",
   "metadata": {},
   "outputs": [
    {
     "name": "stdout",
     "output_type": "stream",
     "text": [
      "INFO: EclCase init from data deck: C:\\GitHub\\opm-tests\\norne\\NORNE_ATW2013_3A_MSW.DATA\n"
     ]
    }
   ],
   "source": [
    "case3 = et.EclCase(r\"C:\\GitHub\\opm-tests\\norne\\NORNE_ATW2013_3A_MSW.DATA\")"
   ]
  },
  {
   "cell_type": "markdown",
   "id": "09ed020c",
   "metadata": {},
   "source": [
    "## Compare base case with 2A_MSW\n",
    "\n",
    "We can see that several `INCLUDE` files added. The change is rather big."
   ]
  },
  {
   "cell_type": "code",
   "execution_count": 13,
   "id": "2191169c",
   "metadata": {},
   "outputs": [
    {
     "data": {
      "text/html": [
       "\n",
       "<!DOCTYPE html PUBLIC \"-//W3C//DTD XHTML 1.0 Transitional//EN\"\n",
       "          \"http://www.w3.org/TR/xhtml1/DTD/xhtml1-transitional.dtd\">\n",
       "\n",
       "<html>\n",
       "\n",
       "<head>\n",
       "    <meta http-equiv=\"Content-Type\"\n",
       "          content=\"text/html; charset=utf-8\" />\n",
       "    <title></title>\n",
       "    <style type=\"text/css\">\n",
       "        table.diff {font-family:Courier; border:medium;}\n",
       "        .diff_header {background-color:#e0e0e0}\n",
       "        td.diff_header {text-align:right}\n",
       "        .diff_next {background-color:#c0c0c0}\n",
       "        .diff_add {background-color:#aaffaa}\n",
       "        .diff_chg {background-color:#ffff77}\n",
       "        .diff_sub {background-color:#ffaaaa}\n",
       "    </style>\n",
       "</head>\n",
       "\n",
       "<body>\n",
       "    \n",
       "    <table class=\"diff\" id=\"difflib_chg_to3__top\"\n",
       "           cellspacing=\"0\" cellpadding=\"0\" rules=\"groups\" >\n",
       "        <colgroup></colgroup> <colgroup></colgroup> <colgroup></colgroup>\n",
       "        <colgroup></colgroup> <colgroup></colgroup> <colgroup></colgroup>\n",
       "        <thead><tr><th class=\"diff_next\"><br /></th><th colspan=\"2\" class=\"diff_header\">C:\\GitHub\\opm-tests\\norne\\NORNE_ATW2013.DATA</th><th class=\"diff_next\"><br /></th><th colspan=\"2\" class=\"diff_header\">C:\\GitHub\\opm-tests\\norne\\NORNE_ATW2013_2A_MSW.DATA</th></tr></thead>\n",
       "        <tbody>\n",
       "            <tr><td class=\"diff_next\" id=\"difflib_chg_to3__0\"><a href=\"#difflib_chg_to3__1\">n</a></td><td class=\"diff_header\" id=\"from3_1\">1</td><td nowrap=\"nowrap\">C:\\GitHub\\opm-tests\\norne\\NORNE_ATW2013.DATA</td><td class=\"diff_next\"><a href=\"#difflib_chg_to3__1\">n</a></td><td class=\"diff_header\" id=\"to3_1\">1</td><td nowrap=\"nowrap\">C:\\GitHub\\opm-tests\\norne\\NORNE_ATW2013<span class=\"diff_add\">_2A_MSW</span>.DATA</td></tr>\n",
       "            <tr><td class=\"diff_next\"></td><td class=\"diff_header\" id=\"from3_2\">2</td><td nowrap=\"nowrap\">C:\\GitHub\\opm-tests\\norne\\INCLUDE\\GRID\\IRAP_1005.GRDECL</td><td class=\"diff_next\"></td><td class=\"diff_header\" id=\"to3_2\">2</td><td nowrap=\"nowrap\">C:\\GitHub\\opm-tests\\norne\\INCLUDE\\GRID\\IRAP_1005.GRDECL</td></tr>\n",
       "            <tr><td class=\"diff_next\"></td><td class=\"diff_header\" id=\"from3_3\">3</td><td nowrap=\"nowrap\">C:\\GitHub\\opm-tests\\norne\\INCLUDE\\GRID\\ACTNUM_0704.prop</td><td class=\"diff_next\"></td><td class=\"diff_header\" id=\"to3_3\">3</td><td nowrap=\"nowrap\">C:\\GitHub\\opm-tests\\norne\\INCLUDE\\GRID\\ACTNUM_0704.prop</td></tr>\n",
       "            <tr><td class=\"diff_next\"></td><td class=\"diff_header\" id=\"from3_4\">4</td><td nowrap=\"nowrap\">C:\\GitHub\\opm-tests\\norne\\INCLUDE\\FAULT\\FAULT_JUN_05.INC</td><td class=\"diff_next\"></td><td class=\"diff_header\" id=\"to3_4\">4</td><td nowrap=\"nowrap\">C:\\GitHub\\opm-tests\\norne\\INCLUDE\\FAULT\\FAULT_JUN_05.INC</td></tr>\n",
       "            <tr><td class=\"diff_next\"></td><td class=\"diff_header\" id=\"from3_5\">5</td><td nowrap=\"nowrap\">C:\\GitHub\\opm-tests\\norne\\INCLUDE\\FAULT\\FAULTMULT_AUG-2006.INC</td><td class=\"diff_next\"></td><td class=\"diff_header\" id=\"to3_5\">5</td><td nowrap=\"nowrap\">C:\\GitHub\\opm-tests\\norne\\INCLUDE\\FAULT\\FAULTMULT_AUG-2006.INC</td></tr>\n",
       "            <tr><td class=\"diff_next\"></td><td class=\"diff_header\" id=\"from3_6\">6</td><td nowrap=\"nowrap\">C:\\GitHub\\opm-tests\\norne\\INCLUDE\\PETRO\\PORO_0704.prop</td><td class=\"diff_next\"></td><td class=\"diff_header\" id=\"to3_6\">6</td><td nowrap=\"nowrap\">C:\\GitHub\\opm-tests\\norne\\INCLUDE\\PETRO\\PORO_0704.prop</td></tr>\n",
       "            <tr><td class=\"diff_next\"></td><td class=\"diff_header\" id=\"from3_7\">7</td><td nowrap=\"nowrap\">C:\\GitHub\\opm-tests\\norne\\INCLUDE\\PETRO\\NTG_0704.prop</td><td class=\"diff_next\"></td><td class=\"diff_header\" id=\"to3_7\">7</td><td nowrap=\"nowrap\">C:\\GitHub\\opm-tests\\norne\\INCLUDE\\PETRO\\NTG_0704.prop</td></tr>\n",
       "            <tr><td class=\"diff_next\"></td><td class=\"diff_header\" id=\"from3_8\">8</td><td nowrap=\"nowrap\">C:\\GitHub\\opm-tests\\norne\\INCLUDE\\PETRO\\PERM_0704.prop</td><td class=\"diff_next\"></td><td class=\"diff_header\" id=\"to3_8\">8</td><td nowrap=\"nowrap\">C:\\GitHub\\opm-tests\\norne\\INCLUDE\\PETRO\\PERM_0704.prop</td></tr>\n",
       "            <tr><td class=\"diff_next\"></td><td class=\"diff_header\" id=\"from3_9\">9</td><td nowrap=\"nowrap\">C:\\GitHub\\opm-tests\\norne\\INCLUDE\\PETRO\\MULTZ_HM_1.INC</td><td class=\"diff_next\"></td><td class=\"diff_header\" id=\"to3_9\">9</td><td nowrap=\"nowrap\">C:\\GitHub\\opm-tests\\norne\\INCLUDE\\PETRO\\MULTZ_HM_1.INC</td></tr>\n",
       "            <tr><td class=\"diff_next\"></td><td class=\"diff_header\" id=\"from3_10\">10</td><td nowrap=\"nowrap\">C:\\GitHub\\opm-tests\\norne\\INCLUDE\\PETRO\\MULTZ_JUN_05_MOD.INC</td><td class=\"diff_next\"></td><td class=\"diff_header\" id=\"to3_10\">10</td><td nowrap=\"nowrap\">C:\\GitHub\\opm-tests\\norne\\INCLUDE\\PETRO\\MULTZ_JUN_05_MOD.INC</td></tr>\n",
       "            <tr><td class=\"diff_next\"></td><td class=\"diff_header\" id=\"from3_11\">11</td><td nowrap=\"nowrap\">C:\\GitHub\\opm-tests\\norne\\INCLUDE\\PETRO\\FLUXNUM_0704.prop</td><td class=\"diff_next\"></td><td class=\"diff_header\" id=\"to3_11\">11</td><td nowrap=\"nowrap\">C:\\GitHub\\opm-tests\\norne\\INCLUDE\\PETRO\\FLUXNUM_0704.prop</td></tr>\n",
       "            <tr><td class=\"diff_next\"></td><td class=\"diff_header\" id=\"from3_12\">12</td><td nowrap=\"nowrap\">C:\\GitHub\\opm-tests\\norne\\INCLUDE\\PETRO\\MULTREGT_D_27.prop</td><td class=\"diff_next\"></td><td class=\"diff_header\" id=\"to3_12\">12</td><td nowrap=\"nowrap\">C:\\GitHub\\opm-tests\\norne\\INCLUDE\\PETRO\\MULTREGT_D_27.prop</td></tr>\n",
       "            <tr><td class=\"diff_next\"></td><td class=\"diff_header\" id=\"from3_13\">13</td><td nowrap=\"nowrap\">C:\\GitHub\\opm-tests\\norne\\INCLUDE\\PVT\\PVT-WET-GAS.INC</td><td class=\"diff_next\"></td><td class=\"diff_header\" id=\"to3_13\">13</td><td nowrap=\"nowrap\">C:\\GitHub\\opm-tests\\norne\\INCLUDE\\PVT\\PVT-WET-GAS.INC</td></tr>\n",
       "            <tr><td class=\"diff_next\"></td><td class=\"diff_header\" id=\"from3_14\">14</td><td nowrap=\"nowrap\">C:\\GitHub\\opm-tests\\norne\\INCLUDE\\PETRO\\SWINITIAL.INC</td><td class=\"diff_next\"></td><td class=\"diff_header\" id=\"to3_14\">14</td><td nowrap=\"nowrap\">C:\\GitHub\\opm-tests\\norne\\INCLUDE\\PETRO\\SWINITIAL.INC</td></tr>\n",
       "            <tr><td class=\"diff_next\"></td><td class=\"diff_header\" id=\"from3_15\">15</td><td nowrap=\"nowrap\">C:\\GitHub\\opm-tests\\norne\\INCLUDE\\RELPERM\\SCAL_NORNE.INC</td><td class=\"diff_next\"></td><td class=\"diff_header\" id=\"to3_15\">15</td><td nowrap=\"nowrap\">C:\\GitHub\\opm-tests\\norne\\INCLUDE\\RELPERM\\SCAL_NORNE.INC</td></tr>\n",
       "            <tr><td class=\"diff_next\"></td><td class=\"diff_header\" id=\"from3_16\">16</td><td nowrap=\"nowrap\">C:\\GitHub\\opm-tests\\norne\\INCLUDE\\PETRO\\FIPNUM_0704.prop</td><td class=\"diff_next\"></td><td class=\"diff_header\" id=\"to3_16\">16</td><td nowrap=\"nowrap\">C:\\GitHub\\opm-tests\\norne\\INCLUDE\\PETRO\\FIPNUM_0704.prop</td></tr>\n",
       "            <tr><td class=\"diff_next\"></td><td class=\"diff_header\" id=\"from3_17\">17</td><td nowrap=\"nowrap\">C:\\GitHub\\opm-tests\\norne\\INCLUDE\\PETRO\\EQLNUM_0704.prop</td><td class=\"diff_next\"></td><td class=\"diff_header\" id=\"to3_17\">17</td><td nowrap=\"nowrap\">C:\\GitHub\\opm-tests\\norne\\INCLUDE\\PETRO\\EQLNUM_0704.prop</td></tr>\n",
       "            <tr><td class=\"diff_next\"></td><td class=\"diff_header\" id=\"from3_18\">18</td><td nowrap=\"nowrap\">C:\\GitHub\\opm-tests\\norne\\INCLUDE\\PETRO\\E3.prop</td><td class=\"diff_next\"></td><td class=\"diff_header\" id=\"to3_18\">18</td><td nowrap=\"nowrap\">C:\\GitHub\\opm-tests\\norne\\INCLUDE\\PETRO\\E3.prop</td></tr>\n",
       "            <tr><td class=\"diff_next\"></td><td class=\"diff_header\" id=\"from3_19\">19</td><td nowrap=\"nowrap\">C:\\GitHub\\opm-tests\\norne\\INCLUDE\\SUMMARY\\summary.data</td><td class=\"diff_next\"></td><td class=\"diff_header\" id=\"to3_19\">19</td><td nowrap=\"nowrap\">C:\\GitHub\\opm-tests\\norne\\INCLUDE\\SUMMARY\\summary.data</td></tr>\n",
       "            <tr><td class=\"diff_next\"></td><td class=\"diff_header\" id=\"from3_20\">20</td><td nowrap=\"nowrap\">C:\\GitHub\\opm-tests\\norne\\INCLUDE\\SUMMARY\\tracer.data</td><td class=\"diff_next\"></td><td class=\"diff_header\" id=\"to3_20\">20</td><td nowrap=\"nowrap\">C:\\GitHub\\opm-tests\\norne\\INCLUDE\\SUMMARY\\tracer.data</td></tr>\n",
       "            <tr><td class=\"diff_next\"></td><td class=\"diff_header\" id=\"from3_21\">21</td><td nowrap=\"nowrap\">C:\\GitHub\\opm-tests\\norne\\INCLUDE\\SUMMARY\\gas.inc</td><td class=\"diff_next\"></td><td class=\"diff_header\" id=\"to3_21\">21</td><td nowrap=\"nowrap\">C:\\GitHub\\opm-tests\\norne\\INCLUDE\\SUMMARY\\gas.inc</td></tr>\n",
       "            <tr><td class=\"diff_next\"></td><td class=\"diff_header\" id=\"from3_22\">22</td><td nowrap=\"nowrap\">C:\\GitHub\\opm-tests\\norne\\INCLUDE\\SUMMARY\\wpave.inc</td><td class=\"diff_next\"></td><td class=\"diff_header\" id=\"to3_22\">22</td><td nowrap=\"nowrap\">C:\\GitHub\\opm-tests\\norne\\INCLUDE\\SUMMARY\\wpave.inc</td></tr>\n",
       "            <tr><td class=\"diff_next\"></td><td class=\"diff_header\" id=\"from3_23\">23</td><td nowrap=\"nowrap\">C:\\GitHub\\opm-tests\\norne\\INCLUDE\\VFP\\DevNew.VFP</td><td class=\"diff_next\"></td><td class=\"diff_header\" id=\"to3_23\">23</td><td nowrap=\"nowrap\">C:\\GitHub\\opm-tests\\norne\\INCLUDE\\VFP\\DevNew.VFP</td></tr>\n",
       "            <tr><td class=\"diff_next\"></td><td class=\"diff_header\" id=\"from3_24\">24</td><td nowrap=\"nowrap\">C:\\GitHub\\opm-tests\\norne\\INCLUDE\\VFP\\E1h.VFP</td><td class=\"diff_next\"></td><td class=\"diff_header\" id=\"to3_24\">24</td><td nowrap=\"nowrap\">C:\\GitHub\\opm-tests\\norne\\INCLUDE\\VFP\\E1h.VFP</td></tr>\n",
       "            <tr><td class=\"diff_next\"></td><td class=\"diff_header\" id=\"from3_25\">25</td><td nowrap=\"nowrap\">C:\\GitHub\\opm-tests\\norne\\INCLUDE\\VFP\\NEW_D2_GAS_0.00003.VFP</td><td class=\"diff_next\"></td><td class=\"diff_header\" id=\"to3_25\">25</td><td nowrap=\"nowrap\">C:\\GitHub\\opm-tests\\norne\\INCLUDE\\VFP\\NEW_D2_GAS_0.00003.VFP</td></tr>\n",
       "            <tr><td class=\"diff_next\"></td><td class=\"diff_header\" id=\"from3_26\">26</td><td nowrap=\"nowrap\">C:\\GitHub\\opm-tests\\norne\\INCLUDE\\VFP\\GAS_PD2.VFP</td><td class=\"diff_next\"></td><td class=\"diff_header\" id=\"to3_26\">26</td><td nowrap=\"nowrap\">C:\\GitHub\\opm-tests\\norne\\INCLUDE\\VFP\\GAS_PD2.VFP</td></tr>\n",
       "            <tr><td class=\"diff_next\"></td><td class=\"diff_header\" id=\"from3_27\">27</td><td nowrap=\"nowrap\">C:\\GitHub\\opm-tests\\norne\\INCLUDE\\VFP\\AlmostVertNew.VFP</td><td class=\"diff_next\"></td><td class=\"diff_header\" id=\"to3_27\">27</td><td nowrap=\"nowrap\">C:\\GitHub\\opm-tests\\norne\\INCLUDE\\VFP\\AlmostVertNew.VFP</td></tr>\n",
       "            <tr><td class=\"diff_next\"></td><td class=\"diff_header\" id=\"from3_28\">28</td><td nowrap=\"nowrap\">C:\\GitHub\\opm-tests\\norne\\INCLUDE\\VFP\\GasProd.VFP</td><td class=\"diff_next\"></td><td class=\"diff_header\" id=\"to3_28\">28</td><td nowrap=\"nowrap\">C:\\GitHub\\opm-tests\\norne\\INCLUDE\\VFP\\GasProd.VFP</td></tr>\n",
       "            <tr><td class=\"diff_next\"></td><td class=\"diff_header\" id=\"from3_29\">29</td><td nowrap=\"nowrap\">C:\\GitHub\\opm-tests\\norne\\INCLUDE\\VFP\\B1BH.Ecl</td><td class=\"diff_next\"></td><td class=\"diff_header\" id=\"to3_29\">29</td><td nowrap=\"nowrap\">C:\\GitHub\\opm-tests\\norne\\INCLUDE\\VFP\\B1BH.Ecl</td></tr>\n",
       "            <tr><td class=\"diff_next\"></td><td class=\"diff_header\" id=\"from3_30\">30</td><td nowrap=\"nowrap\">C:\\GitHub\\opm-tests\\norne\\INCLUDE\\VFP\\B2H.Ecl</td><td class=\"diff_next\"></td><td class=\"diff_header\" id=\"to3_30\">30</td><td nowrap=\"nowrap\">C:\\GitHub\\opm-tests\\norne\\INCLUDE\\VFP\\B2H.Ecl</td></tr>\n",
       "            <tr><td class=\"diff_next\"></td><td class=\"diff_header\" id=\"from3_31\">31</td><td nowrap=\"nowrap\">C:\\GitHub\\opm-tests\\norne\\INCLUDE\\VFP\\B3H.Ecl</td><td class=\"diff_next\"></td><td class=\"diff_header\" id=\"to3_31\">31</td><td nowrap=\"nowrap\">C:\\GitHub\\opm-tests\\norne\\INCLUDE\\VFP\\B3H.Ecl</td></tr>\n",
       "            <tr><td class=\"diff_next\"></td><td class=\"diff_header\" id=\"from3_32\">32</td><td nowrap=\"nowrap\">C:\\GitHub\\opm-tests\\norne\\INCLUDE\\VFP\\B4DH.Ecl</td><td class=\"diff_next\"></td><td class=\"diff_header\" id=\"to3_32\">32</td><td nowrap=\"nowrap\">C:\\GitHub\\opm-tests\\norne\\INCLUDE\\VFP\\B4DH.Ecl</td></tr>\n",
       "            <tr><td class=\"diff_next\"></td><td class=\"diff_header\" id=\"from3_33\">33</td><td nowrap=\"nowrap\">C:\\GitHub\\opm-tests\\norne\\INCLUDE\\VFP\\D1CH.Ecl</td><td class=\"diff_next\"></td><td class=\"diff_header\" id=\"to3_33\">33</td><td nowrap=\"nowrap\">C:\\GitHub\\opm-tests\\norne\\INCLUDE\\VFP\\D1CH.Ecl</td></tr>\n",
       "            <tr><td class=\"diff_next\"></td><td class=\"diff_header\" id=\"from3_34\">34</td><td nowrap=\"nowrap\">C:\\GitHub\\opm-tests\\norne\\INCLUDE\\VFP\\D2H.Ecl</td><td class=\"diff_next\"></td><td class=\"diff_header\" id=\"to3_34\">34</td><td nowrap=\"nowrap\">C:\\GitHub\\opm-tests\\norne\\INCLUDE\\VFP\\D2H.Ecl</td></tr>\n",
       "            <tr><td class=\"diff_next\"></td><td class=\"diff_header\" id=\"from3_35\">35</td><td nowrap=\"nowrap\">C:\\GitHub\\opm-tests\\norne\\INCLUDE\\VFP\\D3BH.Ecl</td><td class=\"diff_next\"></td><td class=\"diff_header\" id=\"to3_35\">35</td><td nowrap=\"nowrap\">C:\\GitHub\\opm-tests\\norne\\INCLUDE\\VFP\\D3BH.Ecl</td></tr>\n",
       "            <tr><td class=\"diff_next\"></td><td class=\"diff_header\" id=\"from3_36\">36</td><td nowrap=\"nowrap\">C:\\GitHub\\opm-tests\\norne\\INCLUDE\\VFP\\E1H.Ecl</td><td class=\"diff_next\"></td><td class=\"diff_header\" id=\"to3_36\">36</td><td nowrap=\"nowrap\">C:\\GitHub\\opm-tests\\norne\\INCLUDE\\VFP\\E1H.Ecl</td></tr>\n",
       "            <tr><td class=\"diff_next\"></td><td class=\"diff_header\" id=\"from3_37\">37</td><td nowrap=\"nowrap\">C:\\GitHub\\opm-tests\\norne\\INCLUDE\\VFP\\E3CH.Ecl</td><td class=\"diff_next\"></td><td class=\"diff_header\" id=\"to3_37\">37</td><td nowrap=\"nowrap\">C:\\GitHub\\opm-tests\\norne\\INCLUDE\\VFP\\E3CH.Ecl</td></tr>\n",
       "            <tr><td class=\"diff_next\"></td><td class=\"diff_header\" id=\"from3_38\">38</td><td nowrap=\"nowrap\">C:\\GitHub\\opm-tests\\norne\\INCLUDE\\VFP\\K3H.Ecl</td><td class=\"diff_next\"></td><td class=\"diff_header\" id=\"to3_38\">38</td><td nowrap=\"nowrap\">C:\\GitHub\\opm-tests\\norne\\INCLUDE\\VFP\\K3H.Ecl</td></tr>\n",
       "            <tr><td class=\"diff_next\"></td><td class=\"diff_header\" id=\"from3_39\">39</td><td nowrap=\"nowrap\">C:\\GitHub\\opm-tests\\norne\\INCLUDE\\VFP\\pd2.VFP</td><td class=\"diff_next\"></td><td class=\"diff_header\" id=\"to3_39\">39</td><td nowrap=\"nowrap\">C:\\GitHub\\opm-tests\\norne\\INCLUDE\\VFP\\pd2.VFP</td></tr>\n",
       "            <tr><td class=\"diff_next\"></td><td class=\"diff_header\" id=\"from3_40\">40</td><td nowrap=\"nowrap\">C:\\GitHub\\opm-tests\\norne\\INCLUDE\\VFP\\pe2.VFP</td><td class=\"diff_next\"></td><td class=\"diff_header\" id=\"to3_40\">40</td><td nowrap=\"nowrap\">C:\\GitHub\\opm-tests\\norne\\INCLUDE\\VFP\\pe2.VFP</td></tr>\n",
       "            <tr><td class=\"diff_next\"></td><td class=\"diff_header\" id=\"from3_41\">41</td><td nowrap=\"nowrap\">C:\\GitHub\\opm-tests\\norne\\INCLUDE\\VFP\\PB1.PIPE.Ecl</td><td class=\"diff_next\"></td><td class=\"diff_header\" id=\"to3_41\">41</td><td nowrap=\"nowrap\">C:\\GitHub\\opm-tests\\norne\\INCLUDE\\VFP\\PB1.PIPE.Ecl</td></tr>\n",
       "            <tr><td class=\"diff_next\"></td><td class=\"diff_header\" id=\"from3_42\">42</td><td nowrap=\"nowrap\">C:\\GitHub\\opm-tests\\norne\\INCLUDE\\VFP\\PB2.PIPE.Ecl</td><td class=\"diff_next\"></td><td class=\"diff_header\" id=\"to3_42\">42</td><td nowrap=\"nowrap\">C:\\GitHub\\opm-tests\\norne\\INCLUDE\\VFP\\PB2.PIPE.Ecl</td></tr>\n",
       "            <tr><td class=\"diff_next\"></td><td class=\"diff_header\" id=\"from3_43\">43</td><td nowrap=\"nowrap\">C:\\GitHub\\opm-tests\\norne\\INCLUDE\\VFP\\PD1.PIPE.Ecl</td><td class=\"diff_next\"></td><td class=\"diff_header\" id=\"to3_43\">43</td><td nowrap=\"nowrap\">C:\\GitHub\\opm-tests\\norne\\INCLUDE\\VFP\\PD1.PIPE.Ecl</td></tr>\n",
       "            <tr><td class=\"diff_next\"></td><td class=\"diff_header\" id=\"from3_44\">44</td><td nowrap=\"nowrap\">C:\\GitHub\\opm-tests\\norne\\INCLUDE\\VFP\\PD2.PIPE.Ecl</td><td class=\"diff_next\"></td><td class=\"diff_header\" id=\"to3_44\">44</td><td nowrap=\"nowrap\">C:\\GitHub\\opm-tests\\norne\\INCLUDE\\VFP\\PD2.PIPE.Ecl</td></tr>\n",
       "            <tr><td class=\"diff_next\"></td><td class=\"diff_header\" id=\"from3_45\">45</td><td nowrap=\"nowrap\">C:\\GitHub\\opm-tests\\norne\\INCLUDE\\VFP\\PE1.PIPE.Ecl</td><td class=\"diff_next\"></td><td class=\"diff_header\" id=\"to3_45\">45</td><td nowrap=\"nowrap\">C:\\GitHub\\opm-tests\\norne\\INCLUDE\\VFP\\PE1.PIPE.Ecl</td></tr>\n",
       "            <tr><td class=\"diff_next\"></td><td class=\"diff_header\" id=\"from3_46\">46</td><td nowrap=\"nowrap\">C:\\GitHub\\opm-tests\\norne\\INCLUDE\\VFP\\PE2.PIPE.Ecl</td><td class=\"diff_next\"></td><td class=\"diff_header\" id=\"to3_46\">46</td><td nowrap=\"nowrap\">C:\\GitHub\\opm-tests\\norne\\INCLUDE\\VFP\\PE2.PIPE.Ecl</td></tr>\n",
       "            <tr><td class=\"diff_next\"></td><td class=\"diff_header\" id=\"from3_47\">47</td><td nowrap=\"nowrap\">C:\\GitHub\\opm-tests\\norne\\INCLUDE\\VFP\\WIC.PIPE.Ecl</td><td class=\"diff_next\"></td><td class=\"diff_header\" id=\"to3_47\">47</td><td nowrap=\"nowrap\">C:\\GitHub\\opm-tests\\norne\\INCLUDE\\VFP\\WIC.PIPE.Ecl</td></tr>\n",
       "            <tr><td class=\"diff_next\"></td><td class=\"diff_header\" id=\"from3_48\">48</td><td nowrap=\"nowrap\">C:\\GitHub\\opm-tests\\norne\\INCLUDE\\VFP\\WIF.PIPE.Ecl</td><td class=\"diff_next\"></td><td class=\"diff_header\" id=\"to3_48\">48</td><td nowrap=\"nowrap\">C:\\GitHub\\opm-tests\\norne\\INCLUDE\\VFP\\WIF.PIPE.Ecl</td></tr>\n",
       "            <tr><td class=\"diff_next\"></td><td class=\"diff_header\" id=\"from3_49\">49</td><td nowrap=\"nowrap\">C:\\GitHub\\opm-tests\\norne\\INCLUDE\\VFP\\C1H.Ecl</td><td class=\"diff_next\"></td><td class=\"diff_header\" id=\"to3_49\">49</td><td nowrap=\"nowrap\">C:\\GitHub\\opm-tests\\norne\\INCLUDE\\VFP\\C1H.Ecl</td></tr>\n",
       "            <tr><td class=\"diff_next\"></td><td class=\"diff_header\" id=\"from3_50\">50</td><td nowrap=\"nowrap\">C:\\GitHub\\opm-tests\\norne\\INCLUDE\\VFP\\C2H.Ecl</td><td class=\"diff_next\"></td><td class=\"diff_header\" id=\"to3_50\">50</td><td nowrap=\"nowrap\">C:\\GitHub\\opm-tests\\norne\\INCLUDE\\VFP\\C2H.Ecl</td></tr>\n",
       "            <tr><td class=\"diff_next\"></td><td class=\"diff_header\" id=\"from3_51\">51</td><td nowrap=\"nowrap\">C:\\GitHub\\opm-tests\\norne\\INCLUDE\\VFP\\C3H.Ecl</td><td class=\"diff_next\"></td><td class=\"diff_header\" id=\"to3_51\">51</td><td nowrap=\"nowrap\">C:\\GitHub\\opm-tests\\norne\\INCLUDE\\VFP\\C3H.Ecl</td></tr>\n",
       "            <tr><td class=\"diff_next\"></td><td class=\"diff_header\" id=\"from3_52\">52</td><td nowrap=\"nowrap\">C:\\GitHub\\opm-tests\\norne\\INCLUDE\\VFP\\C4H.Ecl</td><td class=\"diff_next\"></td><td class=\"diff_header\" id=\"to3_52\">52</td><td nowrap=\"nowrap\">C:\\GitHub\\opm-tests\\norne\\INCLUDE\\VFP\\C4H.Ecl</td></tr>\n",
       "            <tr><td class=\"diff_next\"></td><td class=\"diff_header\" id=\"from3_53\">53</td><td nowrap=\"nowrap\">C:\\GitHub\\opm-tests\\norne\\INCLUDE\\VFP\\C4AH.Ecl</td><td class=\"diff_next\"></td><td class=\"diff_header\" id=\"to3_53\">53</td><td nowrap=\"nowrap\">C:\\GitHub\\opm-tests\\norne\\INCLUDE\\VFP\\C4AH.Ecl</td></tr>\n",
       "            <tr><td class=\"diff_next\" id=\"difflib_chg_to3__1\"></td><td class=\"diff_header\" id=\"from3_54\">54</td><td nowrap=\"nowrap\">C:\\GitHub\\opm-tests\\norne\\INCLUDE\\VFP\\F1H.Ecl</td><td class=\"diff_next\"></td><td class=\"diff_header\" id=\"to3_54\">54</td><td nowrap=\"nowrap\">C:\\GitHub\\opm-tests\\norne\\INCLUDE\\VFP\\F1H.Ecl</td></tr>\n",
       "            <tr><td class=\"diff_next\"></td><td class=\"diff_header\" id=\"from3_55\">55</td><td nowrap=\"nowrap\">C:\\GitHub\\opm-tests\\norne\\INCLUDE\\VFP\\F2H.Ecl</td><td class=\"diff_next\"></td><td class=\"diff_header\" id=\"to3_55\">55</td><td nowrap=\"nowrap\">C:\\GitHub\\opm-tests\\norne\\INCLUDE\\VFP\\F2H.Ecl</td></tr>\n",
       "            <tr><td class=\"diff_next\"></td><td class=\"diff_header\" id=\"from3_56\">56</td><td nowrap=\"nowrap\">C:\\GitHub\\opm-tests\\norne\\INCLUDE\\VFP\\F3H.Ecl</td><td class=\"diff_next\"></td><td class=\"diff_header\" id=\"to3_56\">56</td><td nowrap=\"nowrap\">C:\\GitHub\\opm-tests\\norne\\INCLUDE\\VFP\\F3H.Ecl</td></tr>\n",
       "            <tr><td class=\"diff_next\"></td><td class=\"diff_header\" id=\"from3_57\">57</td><td nowrap=\"nowrap\">C:\\GitHub\\opm-tests\\norne\\INCLUDE\\VFP\\F4H.Ecl</td><td class=\"diff_next\"></td><td class=\"diff_header\" id=\"to3_57\">57</td><td nowrap=\"nowrap\">C:\\GitHub\\opm-tests\\norne\\INCLUDE\\VFP\\F4H.Ecl</td></tr>\n",
       "            <tr><td class=\"diff_next\"></td><td class=\"diff_header\" id=\"from3_58\">58</td><td nowrap=\"nowrap\">C:\\GitHub\\opm-tests\\norne\\INCLUDE\\PI\\pimultab_low-high_aug-2006.inc</td><td class=\"diff_next\"></td><td class=\"diff_header\" id=\"to3_58\">58</td><td nowrap=\"nowrap\">C:\\GitHub\\opm-tests\\norne\\INCLUDE\\PI\\pimultab_low-high_aug-2006.inc</td></tr>\n",
       "            <tr><td class=\"diff_next\"><a href=\"#difflib_chg_to3__top\">t</a></td><td class=\"diff_header\" id=\"from3_59\">59</td><td nowrap=\"nowrap\"><span class=\"diff_sub\">C:\\GitHub\\opm-tests\\norne\\INCLUDE\\BC0407_HIST01122006.SCH</span></td><td class=\"diff_next\"><a href=\"#difflib_chg_to3__top\">t</a></td><td class=\"diff_header\" id=\"to3_59\">59</td><td nowrap=\"nowrap\"><span class=\"diff_add\">C:\\GitHub\\opm-tests\\norne\\INCLUDE\\PRED_DEPLETION_MIN_THP_2A_MSW.SCH</span></td></tr>\n",
       "            <tr><td class=\"diff_next\"></td><td class=\"diff_header\"></td><td nowrap=\"nowrap\"></td><td class=\"diff_next\"></td><td class=\"diff_header\" id=\"to3_60\">60</td><td nowrap=\"nowrap\"><span class=\"diff_add\">C:\\GitHub\\opm-tests\\norne\\INCLUDE\\MSW\\WELSEGS_COMPSEGS_B-2H.INC</span></td></tr>\n",
       "            <tr><td class=\"diff_next\"></td><td class=\"diff_header\"></td><td nowrap=\"nowrap\"></td><td class=\"diff_next\"></td><td class=\"diff_header\" id=\"to3_61\">61</td><td nowrap=\"nowrap\"><span class=\"diff_add\">C:\\GitHub\\opm-tests\\norne\\INCLUDE\\MSW\\WELSEGS_COMPSEGS_D-1H.INC</span></td></tr>\n",
       "            <tr><td class=\"diff_next\"></td><td class=\"diff_header\"></td><td nowrap=\"nowrap\"></td><td class=\"diff_next\"></td><td class=\"diff_header\" id=\"to3_62\">62</td><td nowrap=\"nowrap\"><span class=\"diff_add\">C:\\GitHub\\opm-tests\\norne\\INCLUDE\\MSW\\WELSEGS_COMPSEGS_D-2H.INC</span></td></tr>\n",
       "            <tr><td class=\"diff_next\"></td><td class=\"diff_header\"></td><td nowrap=\"nowrap\"></td><td class=\"diff_next\"></td><td class=\"diff_header\" id=\"to3_63\">63</td><td nowrap=\"nowrap\"><span class=\"diff_add\">C:\\GitHub\\opm-tests\\norne\\INCLUDE\\MSW\\WELSEGS_COMPSEGS_B-1H.INC</span></td></tr>\n",
       "            <tr><td class=\"diff_next\"></td><td class=\"diff_header\"></td><td nowrap=\"nowrap\"></td><td class=\"diff_next\"></td><td class=\"diff_header\" id=\"to3_64\">64</td><td nowrap=\"nowrap\"><span class=\"diff_add\">C:\\GitHub\\opm-tests\\norne\\INCLUDE\\MSW\\WELSEGS_COMPSEGS_B-3H.INC</span></td></tr>\n",
       "            <tr><td class=\"diff_next\"></td><td class=\"diff_header\"></td><td nowrap=\"nowrap\"></td><td class=\"diff_next\"></td><td class=\"diff_header\" id=\"to3_65\">65</td><td nowrap=\"nowrap\"><span class=\"diff_add\">C:\\GitHub\\opm-tests\\norne\\INCLUDE\\MSW\\WELSEGS_COMPSEGS_E-1H.INC</span></td></tr>\n",
       "            <tr><td class=\"diff_next\"></td><td class=\"diff_header\"></td><td nowrap=\"nowrap\"></td><td class=\"diff_next\"></td><td class=\"diff_header\" id=\"to3_66\">66</td><td nowrap=\"nowrap\"><span class=\"diff_add\">C:\\GitHub\\opm-tests\\norne\\INCLUDE\\MSW\\WELSEGS_COMPSEGS_E-2H.INC</span></td></tr>\n",
       "            <tr><td class=\"diff_next\"></td><td class=\"diff_header\"></td><td nowrap=\"nowrap\"></td><td class=\"diff_next\"></td><td class=\"diff_header\" id=\"to3_67\">67</td><td nowrap=\"nowrap\"><span class=\"diff_add\">C:\\GitHub\\opm-tests\\norne\\INCLUDE\\MSW\\WELSEGS_COMPSEGS_E-4AH.INC</span></td></tr>\n",
       "            <tr><td class=\"diff_next\"></td><td class=\"diff_header\"></td><td nowrap=\"nowrap\"></td><td class=\"diff_next\"></td><td class=\"diff_header\" id=\"to3_68\">68</td><td nowrap=\"nowrap\"><span class=\"diff_add\">C:\\GitHub\\opm-tests\\norne\\INCLUDE\\MSW\\WELSEGS_COMPSEGS_D-3AH.INC</span></td></tr>\n",
       "            <tr><td class=\"diff_next\"></td><td class=\"diff_header\"></td><td nowrap=\"nowrap\"></td><td class=\"diff_next\"></td><td class=\"diff_header\" id=\"to3_69\">69</td><td nowrap=\"nowrap\"><span class=\"diff_add\">C:\\GitHub\\opm-tests\\norne\\INCLUDE\\MSW\\WELSEGS_COMPSEGS_E-3AH.INC</span></td></tr>\n",
       "        </tbody>\n",
       "    </table>\n",
       "    <table class=\"diff\" summary=\"Legends\">\n",
       "        <tr> <th colspan=\"2\"> Legends </th> </tr>\n",
       "        <tr> <td> <table border=\"\" summary=\"Colors\">\n",
       "                      <tr><th> Colors </th> </tr>\n",
       "                      <tr><td class=\"diff_add\">&nbsp;Added&nbsp;</td></tr>\n",
       "                      <tr><td class=\"diff_chg\">Changed</td> </tr>\n",
       "                      <tr><td class=\"diff_sub\">Deleted</td> </tr>\n",
       "                  </table></td>\n",
       "             <td> <table border=\"\" summary=\"Links\">\n",
       "                      <tr><th colspan=\"2\"> Links </th> </tr>\n",
       "                      <tr><td>(f)irst change</td> </tr>\n",
       "                      <tr><td>(n)ext change</td> </tr>\n",
       "                      <tr><td>(t)op</td> </tr>\n",
       "                  </table></td> </tr>\n",
       "    </table>\n",
       "</body>\n",
       "\n",
       "</html>"
      ],
      "text/plain": [
       "<IPython.core.display.HTML object>"
      ]
     },
     "metadata": {},
     "output_type": "display_data"
    }
   ],
   "source": [
    "comparison_table = case1.compare_includes_html(case2)\n",
    "display(HTML(comparison_table))"
   ]
  },
  {
   "cell_type": "markdown",
   "id": "0689990c",
   "metadata": {},
   "source": [
    "## Compare 2A and 3A variants of MSW cases\n",
    "\n",
    "The difference in list of included files is much smaller."
   ]
  },
  {
   "cell_type": "code",
   "execution_count": 15,
   "id": "4733586a",
   "metadata": {},
   "outputs": [
    {
     "data": {
      "text/html": [
       "\n",
       "<!DOCTYPE html PUBLIC \"-//W3C//DTD XHTML 1.0 Transitional//EN\"\n",
       "          \"http://www.w3.org/TR/xhtml1/DTD/xhtml1-transitional.dtd\">\n",
       "\n",
       "<html>\n",
       "\n",
       "<head>\n",
       "    <meta http-equiv=\"Content-Type\"\n",
       "          content=\"text/html; charset=utf-8\" />\n",
       "    <title></title>\n",
       "    <style type=\"text/css\">\n",
       "        table.diff {font-family:Courier; border:medium;}\n",
       "        .diff_header {background-color:#e0e0e0}\n",
       "        td.diff_header {text-align:right}\n",
       "        .diff_next {background-color:#c0c0c0}\n",
       "        .diff_add {background-color:#aaffaa}\n",
       "        .diff_chg {background-color:#ffff77}\n",
       "        .diff_sub {background-color:#ffaaaa}\n",
       "    </style>\n",
       "</head>\n",
       "\n",
       "<body>\n",
       "    \n",
       "    <table class=\"diff\" id=\"difflib_chg_to5__top\"\n",
       "           cellspacing=\"0\" cellpadding=\"0\" rules=\"groups\" >\n",
       "        <colgroup></colgroup> <colgroup></colgroup> <colgroup></colgroup>\n",
       "        <colgroup></colgroup> <colgroup></colgroup> <colgroup></colgroup>\n",
       "        <thead><tr><th class=\"diff_next\"><br /></th><th colspan=\"2\" class=\"diff_header\">C:\\GitHub\\opm-tests\\norne\\NORNE_ATW2013_2A_MSW.DATA</th><th class=\"diff_next\"><br /></th><th colspan=\"2\" class=\"diff_header\">C:\\GitHub\\opm-tests\\norne\\NORNE_ATW2013_3A_MSW.DATA</th></tr></thead>\n",
       "        <tbody>\n",
       "            <tr><td class=\"diff_next\" id=\"difflib_chg_to5__0\"><a href=\"#difflib_chg_to5__1\">n</a></td><td class=\"diff_header\" id=\"from5_1\">1</td><td nowrap=\"nowrap\">C:\\GitHub\\opm-tests\\norne\\NORNE_ATW2013_<span class=\"diff_chg\">2</span>A_MSW.DATA</td><td class=\"diff_next\"><a href=\"#difflib_chg_to5__1\">n</a></td><td class=\"diff_header\" id=\"to5_1\">1</td><td nowrap=\"nowrap\">C:\\GitHub\\opm-tests\\norne\\NORNE_ATW2013_<span class=\"diff_chg\">3</span>A_MSW.DATA</td></tr>\n",
       "            <tr><td class=\"diff_next\"></td><td class=\"diff_header\" id=\"from5_2\">2</td><td nowrap=\"nowrap\">C:\\GitHub\\opm-tests\\norne\\INCLUDE\\GRID\\IRAP_1005.GRDECL</td><td class=\"diff_next\"></td><td class=\"diff_header\" id=\"to5_2\">2</td><td nowrap=\"nowrap\">C:\\GitHub\\opm-tests\\norne\\INCLUDE\\GRID\\IRAP_1005.GRDECL</td></tr>\n",
       "            <tr><td class=\"diff_next\"></td><td class=\"diff_header\" id=\"from5_3\">3</td><td nowrap=\"nowrap\">C:\\GitHub\\opm-tests\\norne\\INCLUDE\\GRID\\ACTNUM_0704.prop</td><td class=\"diff_next\"></td><td class=\"diff_header\" id=\"to5_3\">3</td><td nowrap=\"nowrap\">C:\\GitHub\\opm-tests\\norne\\INCLUDE\\GRID\\ACTNUM_0704.prop</td></tr>\n",
       "            <tr><td class=\"diff_next\"></td><td class=\"diff_header\" id=\"from5_4\">4</td><td nowrap=\"nowrap\">C:\\GitHub\\opm-tests\\norne\\INCLUDE\\FAULT\\FAULT_JUN_05.INC</td><td class=\"diff_next\"></td><td class=\"diff_header\" id=\"to5_4\">4</td><td nowrap=\"nowrap\">C:\\GitHub\\opm-tests\\norne\\INCLUDE\\FAULT\\FAULT_JUN_05.INC</td></tr>\n",
       "            <tr><td class=\"diff_next\"></td><td class=\"diff_header\" id=\"from5_5\">5</td><td nowrap=\"nowrap\">C:\\GitHub\\opm-tests\\norne\\INCLUDE\\FAULT\\FAULTMULT_AUG-2006.INC</td><td class=\"diff_next\"></td><td class=\"diff_header\" id=\"to5_5\">5</td><td nowrap=\"nowrap\">C:\\GitHub\\opm-tests\\norne\\INCLUDE\\FAULT\\FAULTMULT_AUG-2006.INC</td></tr>\n",
       "            <tr><td class=\"diff_next\"></td><td class=\"diff_header\" id=\"from5_6\">6</td><td nowrap=\"nowrap\">C:\\GitHub\\opm-tests\\norne\\INCLUDE\\PETRO\\PORO_0704.prop</td><td class=\"diff_next\"></td><td class=\"diff_header\" id=\"to5_6\">6</td><td nowrap=\"nowrap\">C:\\GitHub\\opm-tests\\norne\\INCLUDE\\PETRO\\PORO_0704.prop</td></tr>\n",
       "            <tr><td class=\"diff_next\"></td><td class=\"diff_header\" id=\"from5_7\">7</td><td nowrap=\"nowrap\">C:\\GitHub\\opm-tests\\norne\\INCLUDE\\PETRO\\NTG_0704.prop</td><td class=\"diff_next\"></td><td class=\"diff_header\" id=\"to5_7\">7</td><td nowrap=\"nowrap\">C:\\GitHub\\opm-tests\\norne\\INCLUDE\\PETRO\\NTG_0704.prop</td></tr>\n",
       "            <tr><td class=\"diff_next\"></td><td class=\"diff_header\" id=\"from5_8\">8</td><td nowrap=\"nowrap\">C:\\GitHub\\opm-tests\\norne\\INCLUDE\\PETRO\\PERM_0704.prop</td><td class=\"diff_next\"></td><td class=\"diff_header\" id=\"to5_8\">8</td><td nowrap=\"nowrap\">C:\\GitHub\\opm-tests\\norne\\INCLUDE\\PETRO\\PERM_0704.prop</td></tr>\n",
       "            <tr><td class=\"diff_next\"></td><td class=\"diff_header\" id=\"from5_9\">9</td><td nowrap=\"nowrap\">C:\\GitHub\\opm-tests\\norne\\INCLUDE\\PETRO\\MULTZ_HM_1.INC</td><td class=\"diff_next\"></td><td class=\"diff_header\" id=\"to5_9\">9</td><td nowrap=\"nowrap\">C:\\GitHub\\opm-tests\\norne\\INCLUDE\\PETRO\\MULTZ_HM_1.INC</td></tr>\n",
       "            <tr><td class=\"diff_next\"></td><td class=\"diff_header\" id=\"from5_10\">10</td><td nowrap=\"nowrap\">C:\\GitHub\\opm-tests\\norne\\INCLUDE\\PETRO\\MULTZ_JUN_05_MOD.INC</td><td class=\"diff_next\"></td><td class=\"diff_header\" id=\"to5_10\">10</td><td nowrap=\"nowrap\">C:\\GitHub\\opm-tests\\norne\\INCLUDE\\PETRO\\MULTZ_JUN_05_MOD.INC</td></tr>\n",
       "            <tr><td class=\"diff_next\"></td><td class=\"diff_header\" id=\"from5_11\">11</td><td nowrap=\"nowrap\">C:\\GitHub\\opm-tests\\norne\\INCLUDE\\PETRO\\FLUXNUM_0704.prop</td><td class=\"diff_next\"></td><td class=\"diff_header\" id=\"to5_11\">11</td><td nowrap=\"nowrap\">C:\\GitHub\\opm-tests\\norne\\INCLUDE\\PETRO\\FLUXNUM_0704.prop</td></tr>\n",
       "            <tr><td class=\"diff_next\"></td><td class=\"diff_header\" id=\"from5_12\">12</td><td nowrap=\"nowrap\">C:\\GitHub\\opm-tests\\norne\\INCLUDE\\PETRO\\MULTREGT_D_27.prop</td><td class=\"diff_next\"></td><td class=\"diff_header\" id=\"to5_12\">12</td><td nowrap=\"nowrap\">C:\\GitHub\\opm-tests\\norne\\INCLUDE\\PETRO\\MULTREGT_D_27.prop</td></tr>\n",
       "            <tr><td class=\"diff_next\"></td><td class=\"diff_header\" id=\"from5_13\">13</td><td nowrap=\"nowrap\">C:\\GitHub\\opm-tests\\norne\\INCLUDE\\PVT\\PVT-WET-GAS.INC</td><td class=\"diff_next\"></td><td class=\"diff_header\" id=\"to5_13\">13</td><td nowrap=\"nowrap\">C:\\GitHub\\opm-tests\\norne\\INCLUDE\\PVT\\PVT-WET-GAS.INC</td></tr>\n",
       "            <tr><td class=\"diff_next\"></td><td class=\"diff_header\" id=\"from5_14\">14</td><td nowrap=\"nowrap\">C:\\GitHub\\opm-tests\\norne\\INCLUDE\\PETRO\\SWINITIAL.INC</td><td class=\"diff_next\"></td><td class=\"diff_header\" id=\"to5_14\">14</td><td nowrap=\"nowrap\">C:\\GitHub\\opm-tests\\norne\\INCLUDE\\PETRO\\SWINITIAL.INC</td></tr>\n",
       "            <tr><td class=\"diff_next\"></td><td class=\"diff_header\" id=\"from5_15\">15</td><td nowrap=\"nowrap\">C:\\GitHub\\opm-tests\\norne\\INCLUDE\\RELPERM\\SCAL_NORNE.INC</td><td class=\"diff_next\"></td><td class=\"diff_header\" id=\"to5_15\">15</td><td nowrap=\"nowrap\">C:\\GitHub\\opm-tests\\norne\\INCLUDE\\RELPERM\\SCAL_NORNE.INC</td></tr>\n",
       "            <tr><td class=\"diff_next\"></td><td class=\"diff_header\" id=\"from5_16\">16</td><td nowrap=\"nowrap\">C:\\GitHub\\opm-tests\\norne\\INCLUDE\\PETRO\\FIPNUM_0704.prop</td><td class=\"diff_next\"></td><td class=\"diff_header\" id=\"to5_16\">16</td><td nowrap=\"nowrap\">C:\\GitHub\\opm-tests\\norne\\INCLUDE\\PETRO\\FIPNUM_0704.prop</td></tr>\n",
       "            <tr><td class=\"diff_next\"></td><td class=\"diff_header\" id=\"from5_17\">17</td><td nowrap=\"nowrap\">C:\\GitHub\\opm-tests\\norne\\INCLUDE\\PETRO\\EQLNUM_0704.prop</td><td class=\"diff_next\"></td><td class=\"diff_header\" id=\"to5_17\">17</td><td nowrap=\"nowrap\">C:\\GitHub\\opm-tests\\norne\\INCLUDE\\PETRO\\EQLNUM_0704.prop</td></tr>\n",
       "            <tr><td class=\"diff_next\"></td><td class=\"diff_header\" id=\"from5_18\">18</td><td nowrap=\"nowrap\">C:\\GitHub\\opm-tests\\norne\\INCLUDE\\PETRO\\E3.prop</td><td class=\"diff_next\"></td><td class=\"diff_header\" id=\"to5_18\">18</td><td nowrap=\"nowrap\">C:\\GitHub\\opm-tests\\norne\\INCLUDE\\PETRO\\E3.prop</td></tr>\n",
       "            <tr><td class=\"diff_next\"></td><td class=\"diff_header\" id=\"from5_19\">19</td><td nowrap=\"nowrap\">C:\\GitHub\\opm-tests\\norne\\INCLUDE\\SUMMARY\\summary.data</td><td class=\"diff_next\"></td><td class=\"diff_header\" id=\"to5_19\">19</td><td nowrap=\"nowrap\">C:\\GitHub\\opm-tests\\norne\\INCLUDE\\SUMMARY\\summary.data</td></tr>\n",
       "            <tr><td class=\"diff_next\"></td><td class=\"diff_header\" id=\"from5_20\">20</td><td nowrap=\"nowrap\">C:\\GitHub\\opm-tests\\norne\\INCLUDE\\SUMMARY\\tracer.data</td><td class=\"diff_next\"></td><td class=\"diff_header\" id=\"to5_20\">20</td><td nowrap=\"nowrap\">C:\\GitHub\\opm-tests\\norne\\INCLUDE\\SUMMARY\\tracer.data</td></tr>\n",
       "            <tr><td class=\"diff_next\"></td><td class=\"diff_header\" id=\"from5_21\">21</td><td nowrap=\"nowrap\">C:\\GitHub\\opm-tests\\norne\\INCLUDE\\SUMMARY\\gas.inc</td><td class=\"diff_next\"></td><td class=\"diff_header\" id=\"to5_21\">21</td><td nowrap=\"nowrap\">C:\\GitHub\\opm-tests\\norne\\INCLUDE\\SUMMARY\\gas.inc</td></tr>\n",
       "            <tr><td class=\"diff_next\"></td><td class=\"diff_header\" id=\"from5_22\">22</td><td nowrap=\"nowrap\">C:\\GitHub\\opm-tests\\norne\\INCLUDE\\SUMMARY\\wpave.inc</td><td class=\"diff_next\"></td><td class=\"diff_header\" id=\"to5_22\">22</td><td nowrap=\"nowrap\">C:\\GitHub\\opm-tests\\norne\\INCLUDE\\SUMMARY\\wpave.inc</td></tr>\n",
       "            <tr><td class=\"diff_next\"></td><td class=\"diff_header\" id=\"from5_23\">23</td><td nowrap=\"nowrap\">C:\\GitHub\\opm-tests\\norne\\INCLUDE\\VFP\\DevNew.VFP</td><td class=\"diff_next\"></td><td class=\"diff_header\" id=\"to5_23\">23</td><td nowrap=\"nowrap\">C:\\GitHub\\opm-tests\\norne\\INCLUDE\\VFP\\DevNew.VFP</td></tr>\n",
       "            <tr><td class=\"diff_next\"></td><td class=\"diff_header\" id=\"from5_24\">24</td><td nowrap=\"nowrap\">C:\\GitHub\\opm-tests\\norne\\INCLUDE\\VFP\\E1h.VFP</td><td class=\"diff_next\"></td><td class=\"diff_header\" id=\"to5_24\">24</td><td nowrap=\"nowrap\">C:\\GitHub\\opm-tests\\norne\\INCLUDE\\VFP\\E1h.VFP</td></tr>\n",
       "            <tr><td class=\"diff_next\"></td><td class=\"diff_header\" id=\"from5_25\">25</td><td nowrap=\"nowrap\">C:\\GitHub\\opm-tests\\norne\\INCLUDE\\VFP\\NEW_D2_GAS_0.00003.VFP</td><td class=\"diff_next\"></td><td class=\"diff_header\" id=\"to5_25\">25</td><td nowrap=\"nowrap\">C:\\GitHub\\opm-tests\\norne\\INCLUDE\\VFP\\NEW_D2_GAS_0.00003.VFP</td></tr>\n",
       "            <tr><td class=\"diff_next\"></td><td class=\"diff_header\" id=\"from5_26\">26</td><td nowrap=\"nowrap\">C:\\GitHub\\opm-tests\\norne\\INCLUDE\\VFP\\GAS_PD2.VFP</td><td class=\"diff_next\"></td><td class=\"diff_header\" id=\"to5_26\">26</td><td nowrap=\"nowrap\">C:\\GitHub\\opm-tests\\norne\\INCLUDE\\VFP\\GAS_PD2.VFP</td></tr>\n",
       "            <tr><td class=\"diff_next\"></td><td class=\"diff_header\" id=\"from5_27\">27</td><td nowrap=\"nowrap\">C:\\GitHub\\opm-tests\\norne\\INCLUDE\\VFP\\AlmostVertNew.VFP</td><td class=\"diff_next\"></td><td class=\"diff_header\" id=\"to5_27\">27</td><td nowrap=\"nowrap\">C:\\GitHub\\opm-tests\\norne\\INCLUDE\\VFP\\AlmostVertNew.VFP</td></tr>\n",
       "            <tr><td class=\"diff_next\"></td><td class=\"diff_header\" id=\"from5_28\">28</td><td nowrap=\"nowrap\">C:\\GitHub\\opm-tests\\norne\\INCLUDE\\VFP\\GasProd.VFP</td><td class=\"diff_next\"></td><td class=\"diff_header\" id=\"to5_28\">28</td><td nowrap=\"nowrap\">C:\\GitHub\\opm-tests\\norne\\INCLUDE\\VFP\\GasProd.VFP</td></tr>\n",
       "            <tr><td class=\"diff_next\"></td><td class=\"diff_header\" id=\"from5_29\">29</td><td nowrap=\"nowrap\">C:\\GitHub\\opm-tests\\norne\\INCLUDE\\VFP\\B1BH.Ecl</td><td class=\"diff_next\"></td><td class=\"diff_header\" id=\"to5_29\">29</td><td nowrap=\"nowrap\">C:\\GitHub\\opm-tests\\norne\\INCLUDE\\VFP\\B1BH.Ecl</td></tr>\n",
       "            <tr><td class=\"diff_next\"></td><td class=\"diff_header\" id=\"from5_30\">30</td><td nowrap=\"nowrap\">C:\\GitHub\\opm-tests\\norne\\INCLUDE\\VFP\\B2H.Ecl</td><td class=\"diff_next\"></td><td class=\"diff_header\" id=\"to5_30\">30</td><td nowrap=\"nowrap\">C:\\GitHub\\opm-tests\\norne\\INCLUDE\\VFP\\B2H.Ecl</td></tr>\n",
       "            <tr><td class=\"diff_next\"></td><td class=\"diff_header\" id=\"from5_31\">31</td><td nowrap=\"nowrap\">C:\\GitHub\\opm-tests\\norne\\INCLUDE\\VFP\\B3H.Ecl</td><td class=\"diff_next\"></td><td class=\"diff_header\" id=\"to5_31\">31</td><td nowrap=\"nowrap\">C:\\GitHub\\opm-tests\\norne\\INCLUDE\\VFP\\B3H.Ecl</td></tr>\n",
       "            <tr><td class=\"diff_next\"></td><td class=\"diff_header\" id=\"from5_32\">32</td><td nowrap=\"nowrap\">C:\\GitHub\\opm-tests\\norne\\INCLUDE\\VFP\\B4DH.Ecl</td><td class=\"diff_next\"></td><td class=\"diff_header\" id=\"to5_32\">32</td><td nowrap=\"nowrap\">C:\\GitHub\\opm-tests\\norne\\INCLUDE\\VFP\\B4DH.Ecl</td></tr>\n",
       "            <tr><td class=\"diff_next\"></td><td class=\"diff_header\" id=\"from5_33\">33</td><td nowrap=\"nowrap\">C:\\GitHub\\opm-tests\\norne\\INCLUDE\\VFP\\D1CH.Ecl</td><td class=\"diff_next\"></td><td class=\"diff_header\" id=\"to5_33\">33</td><td nowrap=\"nowrap\">C:\\GitHub\\opm-tests\\norne\\INCLUDE\\VFP\\D1CH.Ecl</td></tr>\n",
       "            <tr><td class=\"diff_next\"></td><td class=\"diff_header\" id=\"from5_34\">34</td><td nowrap=\"nowrap\">C:\\GitHub\\opm-tests\\norne\\INCLUDE\\VFP\\D2H.Ecl</td><td class=\"diff_next\"></td><td class=\"diff_header\" id=\"to5_34\">34</td><td nowrap=\"nowrap\">C:\\GitHub\\opm-tests\\norne\\INCLUDE\\VFP\\D2H.Ecl</td></tr>\n",
       "            <tr><td class=\"diff_next\"></td><td class=\"diff_header\" id=\"from5_35\">35</td><td nowrap=\"nowrap\">C:\\GitHub\\opm-tests\\norne\\INCLUDE\\VFP\\D3BH.Ecl</td><td class=\"diff_next\"></td><td class=\"diff_header\" id=\"to5_35\">35</td><td nowrap=\"nowrap\">C:\\GitHub\\opm-tests\\norne\\INCLUDE\\VFP\\D3BH.Ecl</td></tr>\n",
       "            <tr><td class=\"diff_next\"></td><td class=\"diff_header\" id=\"from5_36\">36</td><td nowrap=\"nowrap\">C:\\GitHub\\opm-tests\\norne\\INCLUDE\\VFP\\E1H.Ecl</td><td class=\"diff_next\"></td><td class=\"diff_header\" id=\"to5_36\">36</td><td nowrap=\"nowrap\">C:\\GitHub\\opm-tests\\norne\\INCLUDE\\VFP\\E1H.Ecl</td></tr>\n",
       "            <tr><td class=\"diff_next\"></td><td class=\"diff_header\" id=\"from5_37\">37</td><td nowrap=\"nowrap\">C:\\GitHub\\opm-tests\\norne\\INCLUDE\\VFP\\E3CH.Ecl</td><td class=\"diff_next\"></td><td class=\"diff_header\" id=\"to5_37\">37</td><td nowrap=\"nowrap\">C:\\GitHub\\opm-tests\\norne\\INCLUDE\\VFP\\E3CH.Ecl</td></tr>\n",
       "            <tr><td class=\"diff_next\"></td><td class=\"diff_header\" id=\"from5_38\">38</td><td nowrap=\"nowrap\">C:\\GitHub\\opm-tests\\norne\\INCLUDE\\VFP\\K3H.Ecl</td><td class=\"diff_next\"></td><td class=\"diff_header\" id=\"to5_38\">38</td><td nowrap=\"nowrap\">C:\\GitHub\\opm-tests\\norne\\INCLUDE\\VFP\\K3H.Ecl</td></tr>\n",
       "            <tr><td class=\"diff_next\"></td><td class=\"diff_header\" id=\"from5_39\">39</td><td nowrap=\"nowrap\">C:\\GitHub\\opm-tests\\norne\\INCLUDE\\VFP\\pd2.VFP</td><td class=\"diff_next\"></td><td class=\"diff_header\" id=\"to5_39\">39</td><td nowrap=\"nowrap\">C:\\GitHub\\opm-tests\\norne\\INCLUDE\\VFP\\pd2.VFP</td></tr>\n",
       "            <tr><td class=\"diff_next\"></td><td class=\"diff_header\" id=\"from5_40\">40</td><td nowrap=\"nowrap\">C:\\GitHub\\opm-tests\\norne\\INCLUDE\\VFP\\pe2.VFP</td><td class=\"diff_next\"></td><td class=\"diff_header\" id=\"to5_40\">40</td><td nowrap=\"nowrap\">C:\\GitHub\\opm-tests\\norne\\INCLUDE\\VFP\\pe2.VFP</td></tr>\n",
       "            <tr><td class=\"diff_next\"></td><td class=\"diff_header\" id=\"from5_41\">41</td><td nowrap=\"nowrap\">C:\\GitHub\\opm-tests\\norne\\INCLUDE\\VFP\\PB1.PIPE.Ecl</td><td class=\"diff_next\"></td><td class=\"diff_header\" id=\"to5_41\">41</td><td nowrap=\"nowrap\">C:\\GitHub\\opm-tests\\norne\\INCLUDE\\VFP\\PB1.PIPE.Ecl</td></tr>\n",
       "            <tr><td class=\"diff_next\"></td><td class=\"diff_header\" id=\"from5_42\">42</td><td nowrap=\"nowrap\">C:\\GitHub\\opm-tests\\norne\\INCLUDE\\VFP\\PB2.PIPE.Ecl</td><td class=\"diff_next\"></td><td class=\"diff_header\" id=\"to5_42\">42</td><td nowrap=\"nowrap\">C:\\GitHub\\opm-tests\\norne\\INCLUDE\\VFP\\PB2.PIPE.Ecl</td></tr>\n",
       "            <tr><td class=\"diff_next\"></td><td class=\"diff_header\" id=\"from5_43\">43</td><td nowrap=\"nowrap\">C:\\GitHub\\opm-tests\\norne\\INCLUDE\\VFP\\PD1.PIPE.Ecl</td><td class=\"diff_next\"></td><td class=\"diff_header\" id=\"to5_43\">43</td><td nowrap=\"nowrap\">C:\\GitHub\\opm-tests\\norne\\INCLUDE\\VFP\\PD1.PIPE.Ecl</td></tr>\n",
       "            <tr><td class=\"diff_next\"></td><td class=\"diff_header\" id=\"from5_44\">44</td><td nowrap=\"nowrap\">C:\\GitHub\\opm-tests\\norne\\INCLUDE\\VFP\\PD2.PIPE.Ecl</td><td class=\"diff_next\"></td><td class=\"diff_header\" id=\"to5_44\">44</td><td nowrap=\"nowrap\">C:\\GitHub\\opm-tests\\norne\\INCLUDE\\VFP\\PD2.PIPE.Ecl</td></tr>\n",
       "            <tr><td class=\"diff_next\"></td><td class=\"diff_header\" id=\"from5_45\">45</td><td nowrap=\"nowrap\">C:\\GitHub\\opm-tests\\norne\\INCLUDE\\VFP\\PE1.PIPE.Ecl</td><td class=\"diff_next\"></td><td class=\"diff_header\" id=\"to5_45\">45</td><td nowrap=\"nowrap\">C:\\GitHub\\opm-tests\\norne\\INCLUDE\\VFP\\PE1.PIPE.Ecl</td></tr>\n",
       "            <tr><td class=\"diff_next\"></td><td class=\"diff_header\" id=\"from5_46\">46</td><td nowrap=\"nowrap\">C:\\GitHub\\opm-tests\\norne\\INCLUDE\\VFP\\PE2.PIPE.Ecl</td><td class=\"diff_next\"></td><td class=\"diff_header\" id=\"to5_46\">46</td><td nowrap=\"nowrap\">C:\\GitHub\\opm-tests\\norne\\INCLUDE\\VFP\\PE2.PIPE.Ecl</td></tr>\n",
       "            <tr><td class=\"diff_next\"></td><td class=\"diff_header\" id=\"from5_47\">47</td><td nowrap=\"nowrap\">C:\\GitHub\\opm-tests\\norne\\INCLUDE\\VFP\\WIC.PIPE.Ecl</td><td class=\"diff_next\"></td><td class=\"diff_header\" id=\"to5_47\">47</td><td nowrap=\"nowrap\">C:\\GitHub\\opm-tests\\norne\\INCLUDE\\VFP\\WIC.PIPE.Ecl</td></tr>\n",
       "            <tr><td class=\"diff_next\"></td><td class=\"diff_header\" id=\"from5_48\">48</td><td nowrap=\"nowrap\">C:\\GitHub\\opm-tests\\norne\\INCLUDE\\VFP\\WIF.PIPE.Ecl</td><td class=\"diff_next\"></td><td class=\"diff_header\" id=\"to5_48\">48</td><td nowrap=\"nowrap\">C:\\GitHub\\opm-tests\\norne\\INCLUDE\\VFP\\WIF.PIPE.Ecl</td></tr>\n",
       "            <tr><td class=\"diff_next\"></td><td class=\"diff_header\" id=\"from5_49\">49</td><td nowrap=\"nowrap\">C:\\GitHub\\opm-tests\\norne\\INCLUDE\\VFP\\C1H.Ecl</td><td class=\"diff_next\"></td><td class=\"diff_header\" id=\"to5_49\">49</td><td nowrap=\"nowrap\">C:\\GitHub\\opm-tests\\norne\\INCLUDE\\VFP\\C1H.Ecl</td></tr>\n",
       "            <tr><td class=\"diff_next\"></td><td class=\"diff_header\" id=\"from5_50\">50</td><td nowrap=\"nowrap\">C:\\GitHub\\opm-tests\\norne\\INCLUDE\\VFP\\C2H.Ecl</td><td class=\"diff_next\"></td><td class=\"diff_header\" id=\"to5_50\">50</td><td nowrap=\"nowrap\">C:\\GitHub\\opm-tests\\norne\\INCLUDE\\VFP\\C2H.Ecl</td></tr>\n",
       "            <tr><td class=\"diff_next\"></td><td class=\"diff_header\" id=\"from5_51\">51</td><td nowrap=\"nowrap\">C:\\GitHub\\opm-tests\\norne\\INCLUDE\\VFP\\C3H.Ecl</td><td class=\"diff_next\"></td><td class=\"diff_header\" id=\"to5_51\">51</td><td nowrap=\"nowrap\">C:\\GitHub\\opm-tests\\norne\\INCLUDE\\VFP\\C3H.Ecl</td></tr>\n",
       "            <tr><td class=\"diff_next\"></td><td class=\"diff_header\" id=\"from5_52\">52</td><td nowrap=\"nowrap\">C:\\GitHub\\opm-tests\\norne\\INCLUDE\\VFP\\C4H.Ecl</td><td class=\"diff_next\"></td><td class=\"diff_header\" id=\"to5_52\">52</td><td nowrap=\"nowrap\">C:\\GitHub\\opm-tests\\norne\\INCLUDE\\VFP\\C4H.Ecl</td></tr>\n",
       "            <tr><td class=\"diff_next\"></td><td class=\"diff_header\" id=\"from5_53\">53</td><td nowrap=\"nowrap\">C:\\GitHub\\opm-tests\\norne\\INCLUDE\\VFP\\C4AH.Ecl</td><td class=\"diff_next\"></td><td class=\"diff_header\" id=\"to5_53\">53</td><td nowrap=\"nowrap\">C:\\GitHub\\opm-tests\\norne\\INCLUDE\\VFP\\C4AH.Ecl</td></tr>\n",
       "            <tr><td class=\"diff_next\" id=\"difflib_chg_to5__1\"></td><td class=\"diff_header\" id=\"from5_54\">54</td><td nowrap=\"nowrap\">C:\\GitHub\\opm-tests\\norne\\INCLUDE\\VFP\\F1H.Ecl</td><td class=\"diff_next\"></td><td class=\"diff_header\" id=\"to5_54\">54</td><td nowrap=\"nowrap\">C:\\GitHub\\opm-tests\\norne\\INCLUDE\\VFP\\F1H.Ecl</td></tr>\n",
       "            <tr><td class=\"diff_next\"></td><td class=\"diff_header\" id=\"from5_55\">55</td><td nowrap=\"nowrap\">C:\\GitHub\\opm-tests\\norne\\INCLUDE\\VFP\\F2H.Ecl</td><td class=\"diff_next\"></td><td class=\"diff_header\" id=\"to5_55\">55</td><td nowrap=\"nowrap\">C:\\GitHub\\opm-tests\\norne\\INCLUDE\\VFP\\F2H.Ecl</td></tr>\n",
       "            <tr><td class=\"diff_next\"></td><td class=\"diff_header\" id=\"from5_56\">56</td><td nowrap=\"nowrap\">C:\\GitHub\\opm-tests\\norne\\INCLUDE\\VFP\\F3H.Ecl</td><td class=\"diff_next\"></td><td class=\"diff_header\" id=\"to5_56\">56</td><td nowrap=\"nowrap\">C:\\GitHub\\opm-tests\\norne\\INCLUDE\\VFP\\F3H.Ecl</td></tr>\n",
       "            <tr><td class=\"diff_next\" id=\"difflib_chg_to5__2\"></td><td class=\"diff_header\" id=\"from5_57\">57</td><td nowrap=\"nowrap\">C:\\GitHub\\opm-tests\\norne\\INCLUDE\\VFP\\F4H.Ecl</td><td class=\"diff_next\"></td><td class=\"diff_header\" id=\"to5_57\">57</td><td nowrap=\"nowrap\">C:\\GitHub\\opm-tests\\norne\\INCLUDE\\VFP\\F4H.Ecl</td></tr>\n",
       "            <tr><td class=\"diff_next\"></td><td class=\"diff_header\" id=\"from5_58\">58</td><td nowrap=\"nowrap\">C:\\GitHub\\opm-tests\\norne\\INCLUDE\\PI\\pimultab_low-high_aug-2006.inc</td><td class=\"diff_next\"></td><td class=\"diff_header\" id=\"to5_58\">58</td><td nowrap=\"nowrap\">C:\\GitHub\\opm-tests\\norne\\INCLUDE\\PI\\pimultab_low-high_aug-2006.inc</td></tr>\n",
       "            <tr><td class=\"diff_next\"><a href=\"#difflib_chg_to5__2\">n</a></td><td class=\"diff_header\" id=\"from5_59\">59</td><td nowrap=\"nowrap\">C:\\GitHub\\opm-tests\\norne\\INCLUDE\\PRED_<span class=\"diff_chg\">DEPLET</span>I<span class=\"diff_sub\">O</span>N_MIN_THP_<span class=\"diff_chg\">2</span>A_MSW.SCH</td><td class=\"diff_next\"><a href=\"#difflib_chg_to5__2\">n</a></td><td class=\"diff_header\" id=\"to5_59\">59</td><td nowrap=\"nowrap\">C:\\GitHub\\opm-tests\\norne\\INCLUDE\\PRED_<span class=\"diff_chg\">G</span>IN<span class=\"diff_add\">J</span>_MIN_THP_<span class=\"diff_chg\">3</span>A_MSW.SCH</td></tr>\n",
       "            <tr><td class=\"diff_next\"></td><td class=\"diff_header\" id=\"from5_60\">60</td><td nowrap=\"nowrap\">C:\\GitHub\\opm-tests\\norne\\INCLUDE\\MSW\\WELSEGS_COMPSEGS_B-2H.INC</td><td class=\"diff_next\"></td><td class=\"diff_header\" id=\"to5_60\">60</td><td nowrap=\"nowrap\">C:\\GitHub\\opm-tests\\norne\\INCLUDE\\MSW\\WELSEGS_COMPSEGS_B-2H.INC</td></tr>\n",
       "            <tr><td class=\"diff_next\"></td><td class=\"diff_header\" id=\"from5_61\">61</td><td nowrap=\"nowrap\">C:\\GitHub\\opm-tests\\norne\\INCLUDE\\MSW\\WELSEGS_COMPSEGS_D-1H.INC</td><td class=\"diff_next\"></td><td class=\"diff_header\" id=\"to5_61\">61</td><td nowrap=\"nowrap\">C:\\GitHub\\opm-tests\\norne\\INCLUDE\\MSW\\WELSEGS_COMPSEGS_D-1H.INC</td></tr>\n",
       "            <tr><td class=\"diff_next\"><a href=\"#difflib_chg_to5__top\">t</a></td><td class=\"diff_header\"></td><td nowrap=\"nowrap\"></td><td class=\"diff_next\"><a href=\"#difflib_chg_to5__top\">t</a></td><td class=\"diff_header\" id=\"to5_62\">62</td><td nowrap=\"nowrap\"><span class=\"diff_add\">C:\\GitHub\\opm-tests\\norne\\INCLUDE\\MSW\\WELSEGS_COMPSEGS_C-4H.INC</span></td></tr>\n",
       "            <tr><td class=\"diff_next\"></td><td class=\"diff_header\" id=\"from5_62\">62</td><td nowrap=\"nowrap\">C:\\GitHub\\opm-tests\\norne\\INCLUDE\\MSW\\WELSEGS_COMPSEGS_D-2H.INC</td><td class=\"diff_next\"></td><td class=\"diff_header\" id=\"to5_63\">63</td><td nowrap=\"nowrap\">C:\\GitHub\\opm-tests\\norne\\INCLUDE\\MSW\\WELSEGS_COMPSEGS_D-2H.INC</td></tr>\n",
       "            <tr><td class=\"diff_next\"></td><td class=\"diff_header\" id=\"from5_63\">63</td><td nowrap=\"nowrap\">C:\\GitHub\\opm-tests\\norne\\INCLUDE\\MSW\\WELSEGS_COMPSEGS_B-1H.INC</td><td class=\"diff_next\"></td><td class=\"diff_header\" id=\"to5_64\">64</td><td nowrap=\"nowrap\">C:\\GitHub\\opm-tests\\norne\\INCLUDE\\MSW\\WELSEGS_COMPSEGS_B-1H.INC</td></tr>\n",
       "            <tr><td class=\"diff_next\"></td><td class=\"diff_header\" id=\"from5_64\">64</td><td nowrap=\"nowrap\">C:\\GitHub\\opm-tests\\norne\\INCLUDE\\MSW\\WELSEGS_COMPSEGS_B-3H.INC</td><td class=\"diff_next\"></td><td class=\"diff_header\" id=\"to5_65\">65</td><td nowrap=\"nowrap\">C:\\GitHub\\opm-tests\\norne\\INCLUDE\\MSW\\WELSEGS_COMPSEGS_B-3H.INC</td></tr>\n",
       "            <tr><td class=\"diff_next\"></td><td class=\"diff_header\" id=\"from5_65\">65</td><td nowrap=\"nowrap\">C:\\GitHub\\opm-tests\\norne\\INCLUDE\\MSW\\WELSEGS_COMPSEGS_E-1H.INC</td><td class=\"diff_next\"></td><td class=\"diff_header\" id=\"to5_66\">66</td><td nowrap=\"nowrap\">C:\\GitHub\\opm-tests\\norne\\INCLUDE\\MSW\\WELSEGS_COMPSEGS_E-1H.INC</td></tr>\n",
       "            <tr><td class=\"diff_next\"></td><td class=\"diff_header\" id=\"from5_66\">66</td><td nowrap=\"nowrap\">C:\\GitHub\\opm-tests\\norne\\INCLUDE\\MSW\\WELSEGS_COMPSEGS_E-2H.INC</td><td class=\"diff_next\"></td><td class=\"diff_header\" id=\"to5_67\">67</td><td nowrap=\"nowrap\">C:\\GitHub\\opm-tests\\norne\\INCLUDE\\MSW\\WELSEGS_COMPSEGS_E-2H.INC</td></tr>\n",
       "            <tr><td class=\"diff_next\"></td><td class=\"diff_header\" id=\"from5_67\">67</td><td nowrap=\"nowrap\">C:\\GitHub\\opm-tests\\norne\\INCLUDE\\MSW\\WELSEGS_COMPSEGS_E-4AH.INC</td><td class=\"diff_next\"></td><td class=\"diff_header\" id=\"to5_68\">68</td><td nowrap=\"nowrap\">C:\\GitHub\\opm-tests\\norne\\INCLUDE\\MSW\\WELSEGS_COMPSEGS_E-4AH.INC</td></tr>\n",
       "            <tr><td class=\"diff_next\"></td><td class=\"diff_header\" id=\"from5_68\">68</td><td nowrap=\"nowrap\">C:\\GitHub\\opm-tests\\norne\\INCLUDE\\MSW\\WELSEGS_COMPSEGS_D-3AH.INC</td><td class=\"diff_next\"></td><td class=\"diff_header\" id=\"to5_69\">69</td><td nowrap=\"nowrap\">C:\\GitHub\\opm-tests\\norne\\INCLUDE\\MSW\\WELSEGS_COMPSEGS_D-3AH.INC</td></tr>\n",
       "            <tr><td class=\"diff_next\"></td><td class=\"diff_header\" id=\"from5_69\">69</td><td nowrap=\"nowrap\">C:\\GitHub\\opm-tests\\norne\\INCLUDE\\MSW\\WELSEGS_COMPSEGS_E-3AH.INC</td><td class=\"diff_next\"></td><td class=\"diff_header\" id=\"to5_70\">70</td><td nowrap=\"nowrap\">C:\\GitHub\\opm-tests\\norne\\INCLUDE\\MSW\\WELSEGS_COMPSEGS_E-3AH.INC</td></tr>\n",
       "        </tbody>\n",
       "    </table>\n",
       "    <table class=\"diff\" summary=\"Legends\">\n",
       "        <tr> <th colspan=\"2\"> Legends </th> </tr>\n",
       "        <tr> <td> <table border=\"\" summary=\"Colors\">\n",
       "                      <tr><th> Colors </th> </tr>\n",
       "                      <tr><td class=\"diff_add\">&nbsp;Added&nbsp;</td></tr>\n",
       "                      <tr><td class=\"diff_chg\">Changed</td> </tr>\n",
       "                      <tr><td class=\"diff_sub\">Deleted</td> </tr>\n",
       "                  </table></td>\n",
       "             <td> <table border=\"\" summary=\"Links\">\n",
       "                      <tr><th colspan=\"2\"> Links </th> </tr>\n",
       "                      <tr><td>(f)irst change</td> </tr>\n",
       "                      <tr><td>(n)ext change</td> </tr>\n",
       "                      <tr><td>(t)op</td> </tr>\n",
       "                  </table></td> </tr>\n",
       "    </table>\n",
       "</body>\n",
       "\n",
       "</html>"
      ],
      "text/plain": [
       "<IPython.core.display.HTML object>"
      ]
     },
     "metadata": {},
     "output_type": "display_data"
    }
   ],
   "source": [
    "comparison_table = case2.compare_includes_html(case3)\n",
    "display(HTML(comparison_table))"
   ]
  },
  {
   "cell_type": "code",
   "execution_count": null,
   "id": "681e0da0",
   "metadata": {},
   "outputs": [],
   "source": []
  }
 ],
 "metadata": {
  "kernelspec": {
   "display_name": "Python 3",
   "language": "python",
   "name": "python3"
  },
  "language_info": {
   "codemirror_mode": {
    "name": "ipython",
    "version": 3
   },
   "file_extension": ".py",
   "mimetype": "text/x-python",
   "name": "python",
   "nbconvert_exporter": "python",
   "pygments_lexer": "ipython3",
   "version": "3.9.5"
  }
 },
 "nbformat": 4,
 "nbformat_minor": 5
}
