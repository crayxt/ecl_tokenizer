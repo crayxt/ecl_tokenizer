{
 "cells": [
  {
   "cell_type": "markdown",
   "id": "eff828f5",
   "metadata": {},
   "source": [
    "## Import libraries"
   ]
  },
  {
   "cell_type": "code",
   "execution_count": 1,
   "id": "747009a6",
   "metadata": {},
   "outputs": [],
   "source": [
    "import pandas as pd\n",
    "import numpy as np"
   ]
  },
  {
   "cell_type": "code",
   "execution_count": 38,
   "id": "935eb023",
   "metadata": {},
   "outputs": [],
   "source": [
    "date_template = \"\"\"DATES\\n {0} /\\n/\\n\"\"\"\n",
    "\n",
    "wconhist_row_template = \"'{0}' '{1}' 'RESV' {2} /\""
   ]
  },
  {
   "cell_type": "markdown",
   "id": "c3df4d9b",
   "metadata": {},
   "source": [
    "## Let's generate some fake data"
   ]
  },
  {
   "cell_type": "code",
   "execution_count": 35,
   "id": "c6d84820",
   "metadata": {},
   "outputs": [
    {
     "name": "stdout",
     "output_type": "stream",
     "text": [
      "            PWELL_1  PWELL_2  PWELL_3\n",
      "Date                                 \n",
      "2021-01-01   442.97     0.00   489.82\n",
      "2021-01-02   123.84   376.44   263.34\n",
      "2021-01-03   453.78   442.04     0.00\n",
      "2021-01-04   258.67   171.81   106.15\n",
      "2021-01-05   180.34   135.39   380.81\n",
      "2021-01-06   239.02     0.00   137.70\n",
      "2021-01-07   397.21   256.99   226.65\n",
      "2021-01-08   127.58     0.00   412.16\n",
      "2021-01-09   158.88     0.00   107.49\n",
      "2021-01-10   456.06     0.00   187.98\n"
     ]
    }
   ],
   "source": [
    "dates  = pd.date_range(\"2021-01-01\", \"2021-01-10\")\n",
    "np.random.seed(321)\n",
    "values =  np.random.rand(10, 3) * 500\n",
    "values[values < 100] = 0\n",
    "df = pd.DataFrame(np.round(values, 2), index=dates, columns=[\"PWELL_1\", \"PWELL_2\", \"PWELL_3\"])\n",
    "df.index.name = \"Date\"\n",
    "print(df)"
   ]
  },
  {
   "cell_type": "markdown",
   "id": "629a853a",
   "metadata": {},
   "source": [
    "## Generation of Schedule\n",
    "\n",
    "For simplicity, we consider all wells to be under same VFP table, and is being operated by 'RESV'."
   ]
  },
  {
   "cell_type": "code",
   "execution_count": 40,
   "id": "a991fd0f",
   "metadata": {},
   "outputs": [
    {
     "name": "stdout",
     "output_type": "stream",
     "text": [
      "DATES\n",
      " 01 'JAN' 2021 /\n",
      "/\n",
      "\n",
      "WCONHIST\n",
      "'PWELL_1' 'OPEN' 'RESV' 442.97 /\n",
      "'PWELL_2' 'STOP' 'RESV' 0.0 /\n",
      "'PWELL_3' 'OPEN' 'RESV' 489.82 /\n",
      "/\n",
      "\n",
      "DATES\n",
      " 02 'JAN' 2021 /\n",
      "/\n",
      "\n",
      "WCONHIST\n",
      "'PWELL_1' 'OPEN' 'RESV' 123.84 /\n",
      "'PWELL_2' 'OPEN' 'RESV' 376.44 /\n",
      "'PWELL_3' 'OPEN' 'RESV' 263.34 /\n",
      "/\n",
      "\n",
      "DATES\n",
      " 03 'JAN' 2021 /\n",
      "/\n",
      "\n",
      "WCONHIST\n",
      "'PWELL_1' 'OPEN' 'RESV' 453.78 /\n",
      "'PWELL_2' 'OPEN' 'RESV' 442.04 /\n",
      "'PWELL_3' 'STOP' 'RESV' 0.0 /\n",
      "/\n",
      "\n",
      "DATES\n",
      " 04 'JAN' 2021 /\n",
      "/\n",
      "\n",
      "WCONHIST\n",
      "'PWELL_1' 'OPEN' 'RESV' 258.67 /\n",
      "'PWELL_2' 'OPEN' 'RESV' 171.81 /\n",
      "'PWELL_3' 'OPEN' 'RESV' 106.15 /\n",
      "/\n",
      "\n",
      "DATES\n",
      " 05 'JAN' 2021 /\n",
      "/\n",
      "\n",
      "WCONHIST\n",
      "'PWELL_1' 'OPEN' 'RESV' 180.34 /\n",
      "'PWELL_2' 'OPEN' 'RESV' 135.39 /\n",
      "'PWELL_3' 'OPEN' 'RESV' 380.81 /\n",
      "/\n",
      "\n",
      "DATES\n",
      " 06 'JAN' 2021 /\n",
      "/\n",
      "\n",
      "WCONHIST\n",
      "'PWELL_1' 'OPEN' 'RESV' 239.02 /\n",
      "'PWELL_2' 'STOP' 'RESV' 0.0 /\n",
      "'PWELL_3' 'OPEN' 'RESV' 137.7 /\n",
      "/\n",
      "\n",
      "DATES\n",
      " 07 'JAN' 2021 /\n",
      "/\n",
      "\n",
      "WCONHIST\n",
      "'PWELL_1' 'OPEN' 'RESV' 397.21 /\n",
      "'PWELL_2' 'OPEN' 'RESV' 256.99 /\n",
      "'PWELL_3' 'OPEN' 'RESV' 226.65 /\n",
      "/\n",
      "\n",
      "DATES\n",
      " 08 'JAN' 2021 /\n",
      "/\n",
      "\n",
      "WCONHIST\n",
      "'PWELL_1' 'OPEN' 'RESV' 127.58 /\n",
      "'PWELL_2' 'STOP' 'RESV' 0.0 /\n",
      "'PWELL_3' 'OPEN' 'RESV' 412.16 /\n",
      "/\n",
      "\n",
      "DATES\n",
      " 09 'JAN' 2021 /\n",
      "/\n",
      "\n",
      "WCONHIST\n",
      "'PWELL_1' 'OPEN' 'RESV' 158.88 /\n",
      "'PWELL_2' 'STOP' 'RESV' 0.0 /\n",
      "'PWELL_3' 'OPEN' 'RESV' 107.49 /\n",
      "/\n",
      "\n",
      "DATES\n",
      " 10 'JAN' 2021 /\n",
      "/\n",
      "\n",
      "WCONHIST\n",
      "'PWELL_1' 'OPEN' 'RESV' 456.06 /\n",
      "'PWELL_2' 'STOP' 'RESV' 0.0 /\n",
      "'PWELL_3' 'OPEN' 'RESV' 187.98 /\n",
      "/\n",
      "\n"
     ]
    }
   ],
   "source": [
    "for index, row in df.iterrows():\n",
    "    print(date_template.format(row.name.strftime(\"%d '%b' %Y\").upper()))\n",
    "    print(\"WCONHIST\")\n",
    "    for well in df.columns:\n",
    "        well_value = row[well]\n",
    "        well_status = \"OPEN\" if well_value > 0 else \"STOP\"\n",
    "        print(wconhist_row_template.format(well, well_status, well_value))\n",
    "    print(\"/\")\n",
    "    print(\"\")"
   ]
  }
 ],
 "metadata": {
  "kernelspec": {
   "display_name": "Python 3",
   "language": "python",
   "name": "python3"
  },
  "language_info": {
   "codemirror_mode": {
    "name": "ipython",
    "version": 3
   },
   "file_extension": ".py",
   "mimetype": "text/x-python",
   "name": "python",
   "nbconvert_exporter": "python",
   "pygments_lexer": "ipython3",
   "version": "3.9.5"
  }
 },
 "nbformat": 4,
 "nbformat_minor": 5
}
